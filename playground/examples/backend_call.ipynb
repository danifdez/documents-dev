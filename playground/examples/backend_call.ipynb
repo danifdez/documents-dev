{
 "cells": [
  {
   "cell_type": "code",
   "execution_count": 1,
   "id": "7f5a9d59",
   "metadata": {},
   "outputs": [],
   "source": [
    "# Import Required Libraries and BackendClient\n",
    "from utils.backend_client import BackendClient\n",
    "import pandas as pd"
   ]
  },
  {
   "cell_type": "code",
   "execution_count": 2,
   "id": "b96ae2d1",
   "metadata": {},
   "outputs": [],
   "source": [
    "# Instantiate BackendClient\n",
    "backend = BackendClient()"
   ]
  },
  {
   "cell_type": "code",
   "execution_count": 10,
   "id": "df751f27",
   "metadata": {},
   "outputs": [],
   "source": [
    "# Fetch List of Projects from Backend\n",
    "response = backend.get('projects')\n",
    "if response.status_code == 200:\n",
    "    projects_data = response.json()\n",
    "else:\n",
    "    print(f'Failed to fetch projects: {response.status_code}')\n",
    "    projects_data = []"
   ]
  },
  {
   "cell_type": "code",
   "execution_count": 11,
   "id": "d4fda2b9",
   "metadata": {},
   "outputs": [],
   "source": [
    "# Display Projects\n",
    "if projects_data:\n",
    "    if isinstance(projects_data, dict) and 'results' in projects_data:\n",
    "        df = pd.DataFrame(projects_data['results'])\n",
    "    else:\n",
    "        df = pd.DataFrame(projects_data)\n",
    "    display(df)\n",
    "else:\n",
    "    print('No projects found or failed to fetch projects.')"
   ]
  }
 ],
 "metadata": {
  "kernelspec": {
   "display_name": "Python 3 (ipykernel)",
   "language": "python",
   "name": "python3"
  }
 },
 "nbformat": 4,
 "nbformat_minor": 5
}
