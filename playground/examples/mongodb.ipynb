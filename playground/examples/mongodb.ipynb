{
 "cells": [
  {
   "cell_type": "code",
   "execution_count": 4,
   "id": "54f64be6",
   "metadata": {},
   "outputs": [],
   "source": [
    "# Import required libraries and the utility function\n",
    "from utils.mongo_utils import get_mongo_client\n",
    "import pandas as pd\n"
   ]
  },
  {
   "cell_type": "code",
   "execution_count": 5,
   "id": "1dacda19",
   "metadata": {},
   "outputs": [],
   "source": [
    "# Connect to MongoDB using the utility function\n",
    "client = get_mongo_client()\n",
    "if client is not None:\n",
    "    print(\"Connected to MongoDB!\")\n",
    "else:\n",
    "    print(\"Failed to connect to MongoDB.\")"
   ]
  },
  {
   "cell_type": "code",
   "execution_count": null,
   "id": "4c2ffdc3",
   "metadata": {},
   "outputs": [],
   "source": [
    "# Query a collection\n",
    "collection = client[\"projects\"]\n",
    "cursor = collection.find({})"
   ]
  },
  {
   "cell_type": "code",
   "execution_count": 8,
   "id": "0fcdc444",
   "metadata": {},
   "outputs": [],
   "source": [
    "\n",
    "docs = list(cursor)\n",
    "if docs:\n",
    "    df = pd.DataFrame(docs)\n",
    "    display(df)\n",
    "else:\n",
    "    print(\"No documents found in the collection.\")"
   ]
  },
  {
   "cell_type": "code",
   "execution_count": 9,
   "id": "7de216b1",
   "metadata": {},
   "outputs": [],
   "source": [
    "# Example: Find all projects with name 'Test 1'\n",
    "query = {\"name\": \"Test 1\"}\n",
    "result = list(collection.find(query))\n",
    "if result:\n",
    "    example_df = pd.DataFrame(result)\n",
    "    display(example_df)\n",
    "else:\n",
    "    print(\"No projects found with name 'Test 1'.\")"
   ]
  }
 ],
 "metadata": {
  "kernelspec": {
   "display_name": "Python 3 (ipykernel)",
   "language": "python",
   "name": "python3"
  }
 },
 "nbformat": 4,
 "nbformat_minor": 5
}
