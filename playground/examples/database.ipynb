{
 "cells": [
  {
   "cell_type": "code",
   "execution_count": 1,
   "id": "54f64be6",
   "metadata": {},
   "outputs": [],
   "source": [
    "# Import required libraries and the utility function\n",
    "from utils.database_utils import get_postgres_conn\n",
    "import pandas as pd\n"
   ]
  },
  {
   "cell_type": "code",
   "execution_count": 2,
   "id": "1dacda19",
   "metadata": {},
   "outputs": [
    {
     "name": "stdout",
     "output_type": "stream",
     "text": [
      "Connected to Postgres!\n"
     ]
    }
   ],
   "source": [
    "# Connect to Postgres using the utility function\n",
    "conn = get_postgres_conn()\n",
    "if conn is not None:\n",
    "    print(\"Connected to Postgres!\")\n",
    "else:\n",
    "    print(\"Failed to connect to Postgres.\")"
   ]
  },
  {
   "cell_type": "code",
   "execution_count": 3,
   "id": "4c2ffdc3",
   "metadata": {},
   "outputs": [
    {
     "data": {
      "text/html": [
       "<div>\n",
       "<style scoped>\n",
       "    .dataframe tbody tr th:only-of-type {\n",
       "        vertical-align: middle;\n",
       "    }\n",
       "\n",
       "    .dataframe tbody tr th {\n",
       "        vertical-align: top;\n",
       "    }\n",
       "\n",
       "    .dataframe thead th {\n",
       "        text-align: right;\n",
       "    }\n",
       "</style>\n",
       "<table border=\"1\" class=\"dataframe\">\n",
       "  <thead>\n",
       "    <tr style=\"text-align: right;\">\n",
       "      <th></th>\n",
       "      <th>id</th>\n",
       "      <th>name</th>\n",
       "      <th>description</th>\n",
       "      <th>created_at</th>\n",
       "      <th>updated_at</th>\n",
       "    </tr>\n",
       "  </thead>\n",
       "  <tbody>\n",
       "    <tr>\n",
       "      <th>0</th>\n",
       "      <td>85535e07-3d24-4ec4-8aba-b60d8fcbe74c</td>\n",
       "      <td>Test</td>\n",
       "      <td>None</td>\n",
       "      <td>2025-09-11 08:44:58.252874+00:00</td>\n",
       "      <td>2025-09-11 08:44:58.252874+00:00</td>\n",
       "    </tr>\n",
       "    <tr>\n",
       "      <th>1</th>\n",
       "      <td>ed8055d3-304e-48ee-a566-fcabd1086fd2</td>\n",
       "      <td>sdfsdfsdf</td>\n",
       "      <td>None</td>\n",
       "      <td>2025-09-11 10:46:40.889008+00:00</td>\n",
       "      <td>2025-09-11 10:46:40.889008+00:00</td>\n",
       "    </tr>\n",
       "  </tbody>\n",
       "</table>\n",
       "</div>"
      ],
      "text/plain": [
       "                                     id       name description  \\\n",
       "0  85535e07-3d24-4ec4-8aba-b60d8fcbe74c       Test        None   \n",
       "1  ed8055d3-304e-48ee-a566-fcabd1086fd2  sdfsdfsdf        None   \n",
       "\n",
       "                        created_at                       updated_at  \n",
       "0 2025-09-11 08:44:58.252874+00:00 2025-09-11 08:44:58.252874+00:00  \n",
       "1 2025-09-11 10:46:40.889008+00:00 2025-09-11 10:46:40.889008+00:00  "
      ]
     },
     "metadata": {},
     "output_type": "display_data"
    }
   ],
   "source": [
    "# Query a projects table\n",
    "with conn.cursor() as cur:\n",
    "    cur.execute('SELECT * FROM projects LIMIT 100')\n",
    "    rows = cur.fetchall()\n",
    "    cursor = rows\n",
    "\n",
    "docs = list(cursor)\n",
    "if docs:\n",
    "    df = pd.DataFrame(docs)\n",
    "    display(df)\n",
    "else:\n",
    "    print(\"No documents found in the collection.\")"
   ]
  }
 ],
 "metadata": {
  "kernelspec": {
   "display_name": "Python 3 (ipykernel)",
   "language": "python",
   "name": "python3"
  },
  "language_info": {
   "codemirror_mode": {
    "name": "ipython",
    "version": 3
   },
   "file_extension": ".py",
   "mimetype": "text/x-python",
   "name": "python",
   "nbconvert_exporter": "python",
   "pygments_lexer": "ipython3",
   "version": "3.11.13"
  }
 },
 "nbformat": 4,
 "nbformat_minor": 5
}
