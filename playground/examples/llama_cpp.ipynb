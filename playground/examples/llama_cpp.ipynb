{
 "cells": [
  {
   "cell_type": "code",
   "execution_count": null,
   "id": "5d3b1e2b",
   "metadata": {},
   "outputs": [],
   "source": [
    "from llama_cpp import Llama"
   ]
  },
  {
   "cell_type": "code",
   "execution_count": null,
   "id": "d249caff",
   "metadata": {},
   "outputs": [],
   "source": [
    "import os\n",
    "\n",
    "LLM_PATH = \"/app/models/Mistral-7B-Instruct-v0.3-Q4_K_M.gguf\"  # Update this path\n",
    "\n",
    "if not os.path.exists(LLM_PATH):\n",
    "\traise FileNotFoundError(f\"Model file not found at: {LLM_PATH}. Please check the path.\")\n",
    "\n",
    "llm = Llama(model_path=LLM_PATH, n_ctx=32768, n_threads=4, n_batch=64)"
   ]
  },
  {
   "cell_type": "code",
   "execution_count": null,
   "id": "4e44c506",
   "metadata": {},
   "outputs": [],
   "source": [
    "prompt = \"What is the capital of France?\""
   ]
  },
  {
   "cell_type": "code",
   "execution_count": null,
   "id": "93e4e381",
   "metadata": {},
   "outputs": [],
   "source": [
    "response = llm(prompt, max_tokens=100, echo=False)\n",
    "\n",
    "print(\"Response:\", response[\"choices\"][0][\"text\"].strip())\n",
    "\n"
   ]
  }
 ],
 "metadata": {
  "kernelspec": {
   "display_name": "Python 3 (ipykernel)",
   "language": "python",
   "name": "python3"
  },
  "language_info": {
   "codemirror_mode": {
    "name": "ipython",
    "version": 3
   },
   "file_extension": ".py",
   "mimetype": "text/x-python",
   "name": "python",
   "nbconvert_exporter": "python",
   "pygments_lexer": "ipython3",
   "version": "3.11.13"
  }
 },
 "nbformat": 4,
 "nbformat_minor": 5
}
