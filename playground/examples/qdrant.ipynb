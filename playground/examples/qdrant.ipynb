{
 "cells": [
  {
   "cell_type": "code",
   "execution_count": null,
   "id": "8bae83c3",
   "metadata": {},
   "outputs": [],
   "source": [
    "# Import required libraries and the utility function\n",
    "from utils.qdrant_utils import get_qdrant_client\n",
    "import pandas as pd\n"
   ]
  },
  {
   "cell_type": "code",
   "execution_count": null,
   "id": "a838ad3e",
   "metadata": {},
   "outputs": [],
   "source": [
    "# Connect to Qdrant using the utility function\n",
    "client = get_qdrant_client()\n",
    "if client:\n",
    "    print(\"Connected to Qdrant!\")\n",
    "else:\n",
    "    print(\"Failed to connect to Qdrant.\")"
   ]
  },
  {
   "cell_type": "code",
   "execution_count": null,
   "id": "45b71e7e",
   "metadata": {},
   "outputs": [],
   "source": [
    "from typing import Any, Dict\n",
    "from utils.job_utils import send_and_await_job\n",
    "\n",
    "html_content = \"<html><body><h1>Notebook Ingest</h1><p>Hello from the notebook.</p></body></html>\"\n",
    "\n",
    "payload: Dict[str, Any] = {\n",
    "    \"content\": html_content,\n",
    "    \"resourceId\": 123456,\n",
    "    \"projectId\": 78910,\n",
    "}\n",
    "\n",
    "status, result = send_and_await_job(\"ingest-content\", \"high\", payload)\n",
    "print(\"Job status:\", status)\n",
    "print(\"Job result:\", result)\n"
   ]
  },
  {
   "cell_type": "code",
   "execution_count": null,
   "id": "8b3601db",
   "metadata": {},
   "outputs": [],
   "source": [
    "# Fetch current documents (points) from the Qdrant collection and show a summary table.\n",
    "\n",
    "try:\n",
    "    resp, next_page = client.scroll(collection_name=\"rag_docs\", limit=10, with_payload=True, with_vectors=False)\n",
    "except Exception as e:\n",
    "    print(\"Error while scrolling collection:\", e)\n",
    "    resp = []\n",
    "\n",
    "data = []\n",
    "for point in resp:\n",
    "    data.append({\n",
    "        \"id\": point.id,\n",
    "        \"source_id\": point.payload.get(\"source_id\", None),\n",
    "        \"project_id\": point.payload.get(\"project_id\", None),\n",
    "        \"text\": point.payload.get(\"text\", \"\"),\n",
    "        \"part_number\": point.payload.get(\"part_number\", None),\n",
    "    })\n",
    "\n",
    "df = pd.DataFrame(data)\n",
    "df"
   ]
  }
 ],
 "metadata": {
  "kernelspec": {
   "display_name": "Python 3 (ipykernel)",
   "language": "python",
   "name": "python3"
  },
  "language_info": {
   "codemirror_mode": {
    "name": "ipython",
    "version": 3
   },
   "file_extension": ".py",
   "mimetype": "text/x-python",
   "name": "python",
   "nbconvert_exporter": "python",
   "pygments_lexer": "ipython3",
   "version": "3.11.13"
  }
 },
 "nbformat": 4,
 "nbformat_minor": 5
}
