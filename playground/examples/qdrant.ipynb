{
 "cells": [
  {
   "cell_type": "code",
   "execution_count": 9,
   "id": "8bae83c3",
   "metadata": {},
   "outputs": [],
   "source": [
    "# Import required libraries and the utility function\n",
    "from utils.qdrant_utils import get_qdrant_client\n",
    "import pandas as pd\n"
   ]
  },
  {
   "cell_type": "code",
   "execution_count": 10,
   "id": "a838ad3e",
   "metadata": {},
   "outputs": [],
   "source": [
    "# Connect to Qdrant using the utility function\n",
    "client = get_qdrant_client()\n",
    "if client:\n",
    "    print(\"Connected to Qdrant!\")\n",
    "else:\n",
    "    print(\"Failed to connect to Qdrant.\")"
   ]
  },
  {
   "cell_type": "code",
   "execution_count": 11,
   "id": "d466b901",
   "metadata": {},
   "outputs": [],
   "source": [
    "from utils.job_utils import send_and_await_job\n",
    "\n",
    "# Send a job to embed the text \"This is a test\"\n",
    "embed_job_result = send_and_await_job(\n",
    "    job_type=\"embedding\",\n",
    "    priority=\"high\",\n",
    "    payload={\"text\": \"This is a test\"}\n",
    ")\n",
    "\n",
    "search_result = client.query_points(\n",
    "    collection_name=\"rag_docs\",\n",
    "    query=embed_job_result[1]['results'],\n",
    "    limit=5,\n",
    "    with_payload=True,\n",
    ")\n"
   ]
  },
  {
   "cell_type": "code",
   "execution_count": null,
   "id": "62b01988",
   "metadata": {},
   "outputs": [],
   "source": [
    "data = []\n",
    "for point in search_result.points:\n",
    "    payload = point.payload\n",
    "    data.append({\n",
    "        \"id\": point.id,\n",
    "        \"score\": point.score,\n",
    "        \"text\": payload.get(\"text\", \"\"),\n",
    "        \"source_id\": payload.get(\"source_id\", \"\"),\n",
    "        \"project_id\": payload.get(\"project_id\", \"\"),\n",
    "        \"part_number\": payload.get(\"part_number\", \"\")\n",
    "    })\n",
    "\n",
    "df_results = pd.DataFrame(data)\n",
    "display(df_results)"
   ]
  }
 ],
 "metadata": {
  "kernelspec": {
   "display_name": "Python 3 (ipykernel)",
   "language": "python",
   "name": "python3"
  }
 },
 "nbformat": 4,
 "nbformat_minor": 5
}
