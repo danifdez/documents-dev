{
 "cells": [
  {
   "cell_type": "code",
   "execution_count": 1,
   "id": "5d3b1e2b",
   "metadata": {},
   "outputs": [],
   "source": [
    "from llama_cpp import Llama"
   ]
  },
  {
   "cell_type": "code",
   "execution_count": 3,
   "id": "d249caff",
   "metadata": {},
   "outputs": [],
   "source": [
    "LLM_PATH = \"./models/Mistral-7B-Instruct-v0.3-Q4_K_M.gguf\"  # Ajusta a tu ruta\n",
    "llm = Llama(model_path=LLM_PATH, n_ctx=32768, n_threads=4, n_batch=64)"
   ]
  },
  {
   "cell_type": "code",
   "execution_count": 9,
   "id": "4e44c506",
   "metadata": {},
   "outputs": [],
   "source": [
    "query = \"What are the best skills for a coach? Indicate the source of the information.\""
   ]
  },
  {
   "cell_type": "code",
   "execution_count": 19,
   "id": "9bfb7d99",
   "metadata": {},
   "outputs": [],
   "source": [
    "import requests\n",
    "\n",
    "# Define the endpoint URL for the RAG search\n",
    "search_url = \"http://rag:8000/search/\"\n",
    "\n",
    "# Prepare the payload for the search request\n",
    "payload = {\n",
    "    \"query\": query,\n",
    "    \"limit\": 5\n",
    "}\n",
    "\n",
    "# Make the POST request to the search endpoint\n",
    "search_response = requests.post(search_url, json=payload)\n",
    "search_data = search_response.json()\n",
    "\n",
    "# Extract context from the search results\n",
    "for snippet in search_data[\"results\"]:\n",
    "    print(f\"Result: {snippet['text']}\")\n",
    "    print(f\"Score: {snippet['score']}\")\n",
    "    context += \"\\n\" + snippet[\"text\"]\n"
   ]
  },
  {
   "cell_type": "code",
   "execution_count": 15,
   "id": "bcc40a9d",
   "metadata": {},
   "outputs": [],
   "source": [
    "prompt = f\"Responde a la siguiente pregunta usando solo la información dada, si hace falta traduce el texto para dar una respuesta en el idioma que se pregunta Usa un máximo de 1000 tokens.\\n\\nContexto:\\n{context}\\n\\nPregunta: {query}\\n\\nRespuesta:\""
   ]
  },
  {
   "cell_type": "code",
   "execution_count": null,
   "id": "93e4e381",
   "metadata": {},
   "outputs": [],
   "source": [
    "response = llm(prompt, max_tokens=1000, echo=False)\n",
    "\n",
    "print(\"Respuesta:\", response[\"choices\"][0][\"text\"].strip())\n",
    "print(\"Reason:\", response[\"choices\"][0][\"finish_reason\"].strip())\n",
    "print(\"Prompt token usage:\", response[\"usage\"][\"prompt_tokens\"])\n",
    "print(\"Completion token usage:\", response[\"usage\"][\"completion_tokens\"])\n",
    "print(\"Total token usage:\", response[\"usage\"][\"total_tokens\"])\n",
    "\n"
   ]
  }
 ],
 "metadata": {
  "kernelspec": {
   "display_name": "Python 3 (ipykernel)",
   "language": "python",
   "name": "python3"
  }
 },
 "nbformat": 4,
 "nbformat_minor": 5
}
